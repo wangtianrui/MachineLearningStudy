{
 "cells": [
  {
   "cell_type": "code",
   "execution_count": 25,
   "metadata": {},
   "outputs": [],
   "source": [
    "import numpy as np \n",
    "import matplotlib.pyplot  as plt\n",
    "import random\n",
    "%matplotlib inline"
   ]
  },
  {
   "cell_type": "code",
   "execution_count": 35,
   "metadata": {},
   "outputs": [],
   "source": [
    "def loadDataSet(fileName):\n",
    "    \"\"\"\n",
    "    加载数据\n",
    "    \"\"\"\n",
    "    dataMat = []\n",
    "    labelMat = []\n",
    "    fr = open(fileName)\n",
    "    for line in fr.readlines():\n",
    "        lineArr = line.strip().split('\\t')\n",
    "        dataMat.append([float(lineArr[0]),float(lineArr[1])])\n",
    "        labelMat.append(float(lineArr[2]))\n",
    "    return np.array(dataMat) , np.array(labelMat)\n",
    "\n",
    "def selectJrand(i,m):\n",
    "    \"\"\"\n",
    "    选择下标\n",
    "    \"\"\"\n",
    "    j=i\n",
    "    while(j==i):\n",
    "        j = int(random.uniform(0,m)) #范围随机数\n",
    "    return j\n",
    "\n",
    "def clipAlpha(aj,H,L):\n",
    "    \"\"\"\n",
    "    调整aj大小\n",
    "    \"\"\"\n",
    "    if aj > H:\n",
    "        aj = H \n",
    "    if aj < L:\n",
    "        aj = L\n",
    "    return aj "
   ]
  },
  {
   "cell_type": "code",
   "execution_count": 36,
   "metadata": {},
   "outputs": [],
   "source": [
    "datafile = \"testSet.txt\""
   ]
  },
  {
   "cell_type": "code",
   "execution_count": 37,
   "metadata": {},
   "outputs": [],
   "source": [
    "X_data , y_data = loadDataSet(datafile)"
   ]
  },
  {
   "cell_type": "code",
   "execution_count": 40,
   "metadata": {},
   "outputs": [
    {
     "data": {
      "image/png": "[encoded data removed]",
      "text/plain": [
       "<Figure size 432x288 with 1 Axes>"
      ]
     },
     "metadata": {},
     "output_type": "display_data"
    }
   ],
   "source": [
    "x1s = []\n",
    "y1s = []\n",
    "x2s = []\n",
    "y2s = []\n",
    "\n",
    "for index in range(len(y_data)):\n",
    "    if y_data[index] == -1:\n",
    "        x1s.append(X_data[index][0])\n",
    "        y1s.append(X_data[index][1])\n",
    "    if y_data[index] == 1:\n",
    "        x2s.append(X_data[index][0])\n",
    "        y2s.append(X_data[index][1])\n",
    "plt.scatter(x1s,y1s,marker=\"v\")\n",
    "plt.scatter(x2s,y2s,marker=\"o\")\n",
    "plt.show()"
   ]
  },
  {
   "cell_type": "code",
   "execution_count": null,
   "metadata": {},
   "outputs": [],
   "source": [
    "class svm(object):\n",
    "    \n",
    "    def __init__(self):\n",
    "        self.alphas = None\n",
    "        self.b = None\n",
    "        \n",
    "    def smoSimple(X_train,y_train,C,toler,maxIter):\n",
    "        \"\"\"\n",
    "        @ X_train : 训练集\n",
    "        @ y_train ： label\n",
    "        @ C : 常数C\n",
    "        @ toler : 容错率\n",
    "        @ maxIter : 最大训练次数\n",
    "        \"\"\"\n",
    "        train_num , dim = X_train.shape\n",
    "        \n",
    "        if self.alphas == None :\n",
    "            self.alphas = np.zeros(train_num) \n",
    "            \n",
    "        if self.b == None :\n",
    "            self.b = 0\n",
    "        \n",
    "        #support_vectors = None \n",
    "        #support_labels = None \n",
    "        \n",
    "        while step < maxIter:\n",
    "            for index in range(train_num):\n",
    "                fxi = np.dot(X_train[index],(self.alphas * y_train * X_train)) + self.b\n",
    "                errori = fxi - y_train[index]\n",
    "                #############################################################################################################################\n",
    "                # 需要 alpha < C 的时候为 软间隔加入的情况。                                                                                     #\n",
    "                # 注意这里的符号问题   例子：本来标签应该是1的结果label里是-1，那么error = 预测出来的（1） - 本来的label（-1） = 2 -> label * error = -2 #\n",
    "                # 这里是要让误差大的参与训练                                                                                                    #\n",
    "                if ((y_train[index] * errori < -toler) and (self.alphas[index] < C)) or\n",
    "                    ((y_train[index] * errori > toler) and (self.alphas[index] > 0)):\n",
    "                    #选择 aj\n",
    "                    j = selectJrand(index,train_num)\n",
    "                    fxj = np.dot(X_train[j],(self.alphas * y_train * X_train)) + self.b\n",
    "                    errorj = fxj - y_train[j]\n",
    "                    # 用于比较，使用copy防止引用随着改\n",
    "                    alphaIold = self.alphas[index].copy()\n",
    "                    alphaJold = self.alphas[j].copy()\n",
    "                    if y_train[index] != y_train[j]:\n",
    "                        L = max(0,self.alphas[j]-self.alphas[index])\n",
    "                        H = min(C,C+self.alphas[j]-self.alphas[index])\n",
    "                    else:\n",
    "                        L = max(0,self.alphas[j]+self.alphas[index]-C)\n",
    "                        H = min(C,C+self.alphas[j]+self.alphas[index])\n",
    "                    if L == H :\n",
    "                        print \"L == H\"\n",
    "                        continue\n",
    "                    eta = 2.0 * X_train[index] * X_train[j] \n",
    "            "
   ]
  }
 ],
 "metadata": {
  "kernelspec": {
   "display_name": "Python 2",
   "language": "python",
   "name": "python2"
  },
  "language_info": {
   "codemirror_mode": {
    "name": "ipython",
    "version": 2
   },
   "file_extension": ".py",
   "mimetype": "text/x-python",
   "name": "python",
   "nbconvert_exporter": "python",
   "pygments_lexer": "ipython2",
   "version": "2.7.15"
  }
 },
 "nbformat": 4,
 "nbformat_minor": 2
}
