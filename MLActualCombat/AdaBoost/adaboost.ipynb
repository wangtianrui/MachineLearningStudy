{
 "cells": [
  {
   "cell_type": "code",
   "execution_count": 3,
   "metadata": {},
   "outputs": [],
   "source": [
    "import numpy as np\n",
    "import matplotlib.pyplot as plt"
   ]
  },
  {
   "cell_type": "code",
   "execution_count": 2,
   "metadata": {},
   "outputs": [],
   "source": [
    "def loadSimpData():\n",
    "    datMat = np.array([[1.,2.1],\n",
    "                       [2.,1.1],\n",
    "                       [1.3,1,],\n",
    "                       [1.,1.],\n",
    "                       [2.,1.]])\n",
    "    labels = [1.0,1.0,-1.0,-1.0,1.0]\n",
    "    return datMat , labels"
   ]
  },
  {
   "cell_type": "code",
   "execution_count": 6,
   "metadata": {},
   "outputs": [
    {
     "data": {
      "image/png": "[encoded data removed]",
      "text/plain": [
       "<Figure size 360x360 with 1 Axes>"
      ]
     },
     "metadata": {},
     "output_type": "display_data"
    }
   ],
   "source": [
    "dataMat , labels = loadSimpData()\n",
    "xs1 = []\n",
    "ys1 = []\n",
    "xs2 = []\n",
    "ys2 = []\n",
    "for i in range(len(dataMat)):\n",
    "    if labels[i] > 0:\n",
    "        xs1.append(dataMat[i][0])\n",
    "        ys1.append(dataMat[i][1])\n",
    "    else:\n",
    "        xs2.append(dataMat[i][0])\n",
    "        ys2.append(dataMat[i][1])\n",
    "plt.figure(figsize=(5,5))\n",
    "plt.scatter(xs1,ys1)\n",
    "plt.scatter(xs2,ys2)\n",
    "plt.show()"
   ]
  },
  {
   "cell_type": "code",
   "execution_count": null,
   "metadata": {},
   "outputs": [],
   "source": [
    "def stumpClassify(dataMatrix,dimen,threshVal,threshIneq):\n",
    "    retArray = np.ones((dataMat.shape)[0],1)\n",
    "    if threshIneq == '1t':\n",
    "        retArray[dataMatrix[:,dimen]<= threshVal] = -1.0\n",
    "    else:\n",
    "        retArray[dataMatrix[:,dimen]>threshVal] = -1.0\n",
    "    return retArray\n",
    "\n",
    "def buildStump(dataArray,classLabels,D):\n",
    "    dataMatrix = np.array(dataArray)\n",
    "    labelMat = np.array(classLabels).T\n",
    "    m , n = dataMatrix.shape\n",
    "    numStep = 10.0\n",
    "    bestStump = {}\n",
    "    bestClasEst = np.ones((m,1))\n",
    "    minError = inf\n",
    "    for index in range(n):\n",
    "        rangeMin = np.min(dataMatrix[:,i])\n",
    "        rangeMax = np.max(dataMatrix[:,i])\n",
    "        stepSize = (rangeMax-rangeMin)/numStep"
   ]
  }
 ],
 "metadata": {
  "kernelspec": {
   "display_name": "Python 2",
   "language": "python",
   "name": "python2"
  },
  "language_info": {
   "codemirror_mode": {
    "name": "ipython",
    "version": 2
   },
   "file_extension": ".py",
   "mimetype": "text/x-python",
   "name": "python",
   "nbconvert_exporter": "python",
   "pygments_lexer": "ipython2",
   "version": "2.7.15"
  }
 },
 "nbformat": 4,
 "nbformat_minor": 2
}
